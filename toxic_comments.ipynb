{
 "cells": [
  {
   "cell_type": "markdown",
   "metadata": {},
   "source": [
    "## 1. CoolNameNet\n",
    "\n",
    "```\n",
    "CoolNameNet( \n",
    "  (embeddings): Embedding(12071, 500)\n",
    "  (lstm): LSTM(500, 20, num_layers=2, dropout=0.1, bidirectional=True)\n",
    "  (linear1): Linear(in_features=40, out_features=20, bias=True)\n",
    "  (linear2): Linear(in_features=20, out_features=6, bias=True)\n",
    ")\n",
    "```"
   ]
  },
  {
   "cell_type": "markdown",
   "metadata": {},
   "source": [
    "### 1.1. Load data\n",
    "\n",
    "We are using the concatenation of pre-trained embeddings:\n",
    "- Fasttext trained on wiki (300d)\n",
    "- Glove trained on twitter (200d)"
   ]
  },
  {
   "cell_type": "code",
   "execution_count": 1,
   "metadata": {},
   "outputs": [],
   "source": [
    "from loader import *"
   ]
  },
  {
   "cell_type": "code",
   "execution_count": 2,
   "metadata": {
    "scrolled": false
   },
   "outputs": [
    {
     "name": "stdout",
     "output_type": "stream",
     "text": [
      "Done preparing the datasets                                                                         \n",
      "CPU times: user 2min 31s, sys: 2.75 s, total: 2min 33s\n",
      "Wall time: 2min 32s\n"
     ]
    }
   ],
   "source": [
    "%%time\n",
    "loader = ToxicLoader(vectors=['fasttext.en.300d', 'glove.twitter.27B.200d'])"
   ]
  },
  {
   "cell_type": "markdown",
   "metadata": {},
   "source": [
    "### 1.2. Train the model"
   ]
  },
  {
   "cell_type": "code",
   "execution_count": 16,
   "metadata": {},
   "outputs": [],
   "source": [
    "from models import CoolNameNet\n",
    "import torch.nn as nn\n",
    "import torch.optim as optim\n",
    "\n",
    "BATCH_SIZE = 512\n",
    "EMBEDDING_DIM = 500\n",
    "\n",
    "model = CoolNameNet(loader.vocab_size(), EMBEDDING_DIM, 20, vectors=loader.emb_matrix()).cuda()\n",
    "optimizer = optim.Adam(model.parameters(), lr=0.001, weight_decay=0.00001)\n",
    "loss_func = nn.BCELoss()"
   ]
  },
  {
   "cell_type": "code",
   "execution_count": 4,
   "metadata": {},
   "outputs": [
    {
     "name": "stdout",
     "output_type": "stream",
     "text": [
      "Epoch 0 - avg_time/epoch: 23.00s - epoch_duration 23.00s                                            \n",
      "    Train Loss: 0.195, Train Score 0.726, Val. Loss: 0.070, Val. Score: 0.956\n",
      "    Saved Model as <<CoolNameNet.txt>>.\n",
      "Epoch 1 - avg_time/epoch: 24.18s - epoch_duration 22.85s                                            \n",
      "    Train Loss: 0.058, Train Score 0.965, Val. Loss: 0.056, Val. Score: 0.968\n",
      "    Saved Model as <<CoolNameNet.txt>>.\n",
      "Epoch 2 - avg_time/epoch: 24.59s - epoch_duration 22.78s                                            \n",
      "    Train Loss: 0.051, Train Score 0.972, Val. Loss: 0.052, Val. Score: 0.971\n",
      "    Saved Model as <<CoolNameNet.txt>>.\n",
      "Epoch 3 - avg_time/epoch: 24.99s - epoch_duration 23.58s                                            \n",
      "    Train Loss: 0.049, Train Score 0.974, Val. Loss: 0.052, Val. Score: 0.972\n",
      "    Saved Model as <<CoolNameNet.txt>>.\n",
      "Epoch 4 - avg_time/epoch: 25.11s - epoch_duration 23.01s                                            \n",
      "    Train Loss: 0.048, Train Score 0.977, Val. Loss: 0.051, Val. Score: 0.974\n",
      "    Saved Model as <<CoolNameNet.txt>>.\n",
      "Epoch 5 - avg_time/epoch: 25.21s - epoch_duration 23.10s                                            \n",
      "    Train Loss: 0.046, Train Score 0.979, Val. Loss: 0.051, Val. Score: 0.975\n",
      "    Saved Model as <<CoolNameNet.txt>>.\n",
      "Epoch 6 - avg_time/epoch: 25.26s - epoch_duration 22.97s                                            \n",
      "    Train Loss: 0.045, Train Score 0.981, Val. Loss: 0.049, Val. Score: 0.977\n",
      "    Saved Model as <<CoolNameNet.txt>>.\n",
      "Epoch 7 - avg_time/epoch: 25.32s - epoch_duration 23.06s                                            \n",
      "    Train Loss: 0.044, Train Score 0.983, Val. Loss: 0.049, Val. Score: 0.978\n",
      "    Saved Model as <<CoolNameNet.txt>>.\n",
      "Epoch 8 - avg_time/epoch: 25.40s - epoch_duration 23.51s                                            \n",
      "    Train Loss: 0.043, Train Score 0.984, Val. Loss: 0.049, Val. Score: 0.979\n",
      "    Saved Model as <<CoolNameNet.txt>>.\n",
      "Epoch 9 - avg_time/epoch: 25.44s - epoch_duration 23.15s                                            \n",
      "    Train Loss: 0.042, Train Score 0.985, Val. Loss: 0.048, Val. Score: 0.979\n",
      "Epoch 10 - avg_time/epoch: 25.43s - epoch_duration 22.86s                                           \n",
      "    Train Loss: 0.041, Train Score 0.986, Val. Loss: 0.048, Val. Score: 0.979\n",
      "Epoch 11 - avg_time/epoch: 25.44s - epoch_duration 23.04s                                           \n",
      "    Train Loss: 0.041, Train Score 0.986, Val. Loss: 0.048, Val. Score: 0.979\n",
      "    Saved Model as <<CoolNameNet.txt>>.\n",
      "Epoch 12 - avg_time/epoch: 25.52s - epoch_duration 23.87s                                           \n",
      "    Train Loss: 0.040, Train Score 0.987, Val. Loss: 0.049, Val. Score: 0.978\n",
      "Epoch 13 - avg_time/epoch: 25.51s - epoch_duration 22.97s                                           \n",
      "    Train Loss: 0.039, Train Score 0.987, Val. Loss: 0.049, Val. Score: 0.979\n",
      "Epoch 14 - avg_time/epoch: 25.52s - epoch_duration 23.10s                                           \n",
      "    Train Loss: 0.039, Train Score 0.988, Val. Loss: 0.049, Val. Score: 0.977\n",
      "Epoch 15 - avg_time/epoch: 25.52s - epoch_duration 23.17s                                           \n",
      "    Train Loss: 0.038, Train Score 0.988, Val. Loss: 0.049, Val. Score: 0.979\n",
      "Epoch 16 - avg_time/epoch: 25.52s - epoch_duration 23.00s                                           \n",
      "    Train Loss: 0.038, Train Score 0.989, Val. Loss: 0.049, Val. Score: 0.978\n",
      "Epoch 17 - avg_time/epoch: 25.51s - epoch_duration 22.96s                                           \n",
      "    Train Loss: 0.037, Train Score 0.989, Val. Loss: 0.049, Val. Score: 0.979\n",
      "Epoch 18 - avg_time/epoch: 25.51s - epoch_duration 23.04s                                           \n",
      "    Train Loss: 0.036, Train Score 0.990, Val. Loss: 0.048, Val. Score: 0.979\n",
      "Epoch 19 - avg_time/epoch: 25.52s - epoch_duration 23.17s                                           \n",
      "    Train Loss: 0.036, Train Score 0.990, Val. Loss: 0.049, Val. Score: 0.978\n"
     ]
    }
   ],
   "source": [
    "from train import train\n",
    "from sklearn.metrics import roc_auc_score\n",
    "\n",
    "results = train(model, loader.train_iterator(BATCH_SIZE), \n",
    "      optimizer, loss_func, metric=roc_auc_score, \n",
    "      data_val=loader.val_iterator(1024), n_epochs=20)"
   ]
  },
  {
   "cell_type": "code",
   "execution_count": 10,
   "metadata": {},
   "outputs": [
    {
     "data": {
      "image/png": "[encoded data removed]",
      "text/plain": [
       "<Figure size 432x288 with 1 Axes>"
      ]
     },
     "metadata": {
      "needs_background": "light"
     },
     "output_type": "display_data"
    },
    {
     "data": {
      "image/png": "[encoded data removed]",
      "text/plain": [
       "<Figure size 432x288 with 1 Axes>"
      ]
     },
     "metadata": {
      "needs_background": "light"
     },
     "output_type": "display_data"
    }
   ],
   "source": [
    "from train import plot_result, evaluate\n",
    "plot_result(results)"
   ]
  },
  {
   "cell_type": "markdown",
   "metadata": {},
   "source": [
    "### Evaluate best model (best validation score) during training"
   ]
  },
  {
   "cell_type": "code",
   "execution_count": 13,
   "metadata": {},
   "outputs": [
    {
     "name": "stdout",
     "output_type": "stream",
     "text": [
      "Test Loss: 0.0761, Test Score: 0.9726\n"
     ]
    }
   ],
   "source": [
    "# Load best model\n",
    "from util import load_model\n",
    "\n",
    "model = load_model('CoolNameNet')\n",
    "loss, score = evaluate(model, loader.test_iterator(1024), loss_func, roc_auc_score)\n",
    "print('Test Loss: {:.4f}, Test Score: {:.4f}'.format(loss, score))"
   ]
  },
  {
   "cell_type": "markdown",
   "metadata": {},
   "source": [
    "## 2. CoolerNameNet\n",
    "\n",
    "```\n",
    "CoolerNameNet(\n",
    "  (embeddings): Embedding(12071, 500)\n",
    "  (dropout): Dropout(p=0.5)\n",
    "  (lstm): LSTM(500, 20, bidirectional=True)\n",
    "  (gru): GRU(40, 20, bidirectional=True)\n",
    "  (linear1): Linear(in_features=120, out_features=6, bias=True)\n",
    ")\n",
    "```"
   ]
  },
  {
   "cell_type": "code",
   "execution_count": 37,
   "metadata": {},
   "outputs": [],
   "source": [
    "from models import CoolerNameNet\n",
    "import torch.nn as nn\n",
    "import torch.optim as optim\n",
    "\n",
    "BATCH_SIZE = 512\n",
    "EMBEDDING_DIM = 500\n",
    "\n",
    "model = CoolerNameNet(loader.vocab_size(), EMBEDDING_DIM, 20, vectors=loader.emb_matrix(), freeze=True).cuda()\n",
    "optimizer = optim.Adam(model.parameters(), lr=0.001)\n",
    "loss_func = nn.BCELoss()"
   ]
  },
  {
   "cell_type": "code",
   "execution_count": 38,
   "metadata": {},
   "outputs": [
    {
     "name": "stdout",
     "output_type": "stream",
     "text": [
      "Epoch 0 - avg_time/epoch: 18.91s - epoch_duration 18.91s                                            \n",
      "    Train Loss: 0.154, Train Score 0.769, Val. Loss: 0.067, Val. Score: 0.956\n",
      "    Saved Model as <<CoolerNameNet.txt>>.\n",
      "Epoch 1 - avg_time/epoch: 20.02s - epoch_duration 18.79s                                            \n",
      "    Train Loss: 0.056, Train Score 0.967, Val. Loss: 0.053, Val. Score: 0.967\n",
      "    Saved Model as <<CoolerNameNet.txt>>.\n",
      "Epoch 2 - avg_time/epoch: 20.41s - epoch_duration 18.84s                                            \n",
      "    Train Loss: 0.050, Train Score 0.972, Val. Loss: 0.051, Val. Score: 0.971\n",
      "    Saved Model as <<CoolerNameNet.txt>>.\n",
      "Epoch 3 - avg_time/epoch: 20.79s - epoch_duration 19.63s                                            \n",
      "    Train Loss: 0.048, Train Score 0.975, Val. Loss: 0.050, Val. Score: 0.972\n",
      "    Saved Model as <<CoolerNameNet.txt>>.\n",
      "Epoch 4 - avg_time/epoch: 20.91s - epoch_duration 19.06s                                            \n",
      "    Train Loss: 0.047, Train Score 0.976, Val. Loss: 0.049, Val. Score: 0.973\n",
      "    Saved Model as <<CoolerNameNet.txt>>.\n",
      "Epoch 5 - avg_time/epoch: 20.98s - epoch_duration 18.91s                                            \n",
      "    Train Loss: 0.045, Train Score 0.978, Val. Loss: 0.049, Val. Score: 0.974\n",
      "    Saved Model as <<CoolerNameNet.txt>>.\n",
      "Epoch 6 - avg_time/epoch: 21.03s - epoch_duration 18.94s                                            \n",
      "    Train Loss: 0.044, Train Score 0.979, Val. Loss: 0.048, Val. Score: 0.975\n",
      "    Saved Model as <<CoolerNameNet.txt>>.\n",
      "Epoch 7 - avg_time/epoch: 21.07s - epoch_duration 18.99s                                            \n",
      "    Train Loss: 0.043, Train Score 0.981, Val. Loss: 0.050, Val. Score: 0.975\n",
      "Epoch 8 - avg_time/epoch: 21.09s - epoch_duration 19.09s                                            \n",
      "    Train Loss: 0.043, Train Score 0.982, Val. Loss: 0.047, Val. Score: 0.977\n",
      "    Saved Model as <<CoolerNameNet.txt>>.\n",
      "Epoch 9 - avg_time/epoch: 21.11s - epoch_duration 18.98s                                            \n",
      "    Train Loss: 0.041, Train Score 0.984, Val. Loss: 0.047, Val. Score: 0.978\n",
      "    Saved Model as <<CoolerNameNet.txt>>.\n",
      "Epoch 10 - avg_time/epoch: 21.15s - epoch_duration 19.07s                                           \n",
      "    Train Loss: 0.040, Train Score 0.986, Val. Loss: 0.047, Val. Score: 0.979\n",
      "    Saved Model as <<CoolerNameNet.txt>>.\n",
      "Epoch 11 - avg_time/epoch: 21.16s - epoch_duration 18.95s                                           \n",
      "    Train Loss: 0.039, Train Score 0.987, Val. Loss: 0.047, Val. Score: 0.980\n",
      "    Saved Model as <<CoolerNameNet.txt>>.\n",
      "Epoch 12 - avg_time/epoch: 21.18s - epoch_duration 19.03s                                           \n",
      "    Train Loss: 0.038, Train Score 0.988, Val. Loss: 0.046, Val. Score: 0.980\n",
      "    Saved Model as <<CoolerNameNet.txt>>.\n",
      "Epoch 13 - avg_time/epoch: 21.22s - epoch_duration 19.55s                                           \n",
      "    Train Loss: 0.037, Train Score 0.989, Val. Loss: 0.047, Val. Score: 0.980\n",
      "    Saved Model as <<CoolerNameNet.txt>>.\n",
      "Epoch 14 - avg_time/epoch: 21.23s - epoch_duration 18.95s                                           \n",
      "    Train Loss: 0.036, Train Score 0.990, Val. Loss: 0.049, Val. Score: 0.980\n",
      "Epoch 15 - avg_time/epoch: 21.23s - epoch_duration 19.08s                                           \n",
      "    Train Loss: 0.035, Train Score 0.991, Val. Loss: 0.048, Val. Score: 0.980\n",
      "Epoch 16 - avg_time/epoch: 21.22s - epoch_duration 18.90s                                           \n",
      "    Train Loss: 0.034, Train Score 0.991, Val. Loss: 0.049, Val. Score: 0.980\n",
      "Epoch 17 - avg_time/epoch: 21.23s - epoch_duration 19.32s                                           \n",
      "    Train Loss: 0.033, Train Score 0.992, Val. Loss: 0.048, Val. Score: 0.981\n",
      "    Saved Model as <<CoolerNameNet.txt>>.\n",
      "Epoch 18 - avg_time/epoch: 21.26s - epoch_duration 19.29s                                           \n",
      "    Train Loss: 0.032, Train Score 0.992, Val. Loss: 0.049, Val. Score: 0.981\n",
      "Epoch 19 - avg_time/epoch: 21.26s - epoch_duration 19.24s                                           \n",
      "    Train Loss: 0.031, Train Score 0.993, Val. Loss: 0.050, Val. Score: 0.980\n"
     ]
    }
   ],
   "source": [
    "from train import train\n",
    "from sklearn.metrics import roc_auc_score\n",
    "\n",
    "results = train(model, loader.train_iterator(BATCH_SIZE), \n",
    "      optimizer, loss_func, metric=roc_auc_score, \n",
    "      data_val=loader.val_iterator(1024), n_epochs=20)"
   ]
  },
  {
   "cell_type": "code",
   "execution_count": 39,
   "metadata": {},
   "outputs": [
    {
     "data": {
      "image/png": "[encoded data removed]",
      "text/plain": [
       "<Figure size 432x288 with 1 Axes>"
      ]
     },
     "metadata": {
      "needs_background": "light"
     },
     "output_type": "display_data"
    },
    {
     "data": {
      "image/png": "[encoded data removed]",
      "text/plain": [
       "<Figure size 432x288 with 1 Axes>"
      ]
     },
     "metadata": {
      "needs_background": "light"
     },
     "output_type": "display_data"
    }
   ],
   "source": [
    "from train import plot_result, evaluate\n",
    "plot_result(results)"
   ]
  },
  {
   "cell_type": "code",
   "execution_count": 40,
   "metadata": {},
   "outputs": [
    {
     "name": "stdout",
     "output_type": "stream",
     "text": [
      "Test Loss: 0.0757, Test Score: 0.9766\n"
     ]
    }
   ],
   "source": [
    "# Load best model\n",
    "from util import load_model\n",
    "\n",
    "model = load_model('CoolerNameNet')\n",
    "loss, score = evaluate(model, loader.test_iterator(1024), loss_func, roc_auc_score)\n",
    "print('Test Loss: {:.4f}, Test Score: {:.4f}'.format(loss, score))"
   ]
  },
  {
   "cell_type": "code",
   "execution_count": null,
   "metadata": {},
   "outputs": [],
   "source": []
  }
 ],
 "metadata": {
  "kernelspec": {
   "display_name": "Python 3",
   "language": "python",
   "name": "python3"
  },
  "language_info": {
   "codemirror_mode": {
    "name": "ipython",
    "version": 3
   },
   "file_extension": ".py",
   "mimetype": "text/x-python",
   "name": "python",
   "nbconvert_exporter": "python",
   "pygments_lexer": "ipython3",
   "version": "3.7.1"
  }
 },
 "nbformat": 4,
 "nbformat_minor": 2
}
