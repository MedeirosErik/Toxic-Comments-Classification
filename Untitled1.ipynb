{
  "nbformat": 4,
  "nbformat_minor": 0,
  "metadata": {
    "colab": {
      "name": "Untitled1.ipynb",
      "provenance": [],
      "collapsed_sections": [],
      "authorship_tag": "ABX9TyO8GAxxafLn+qYu7NXrY7CN",
      "include_colab_link": true
    },
    "kernelspec": {
      "name": "ir",
      "display_name": "R"
    },
    "language_info": {
      "name": "R"
    }
  },
  "cells": [
    {
      "cell_type": "markdown",
      "metadata": {
        "id": "view-in-github",
        "colab_type": "text"
      },
      "source": [
        "<a href=\"https://colab.research.google.com/github/MedeirosErik/Toxic-Comments-Classification/blob/master/Untitled1.ipynb\" target=\"_parent\"><img src=\"https://colab.research.google.com/assets/colab-badge.svg\" alt=\"Open In Colab\"/></a>"
      ]
    },
    {
      "cell_type": "code",
      "metadata": {
        "id": "oRcn922TfMyx"
      },
      "source": [
        "if(require(tidyverse) == F) install.packages('tidyverse'); require(tidyverse)\n",
        "if(require(kableExtra) == F) install.packages('kableExtra'); require(kableExtra)\n",
        "if(require(readxl) == F) install.packages('readxl'); require(readxl)\n",
        "if(require(here)==F) install.packages('here'); require(here)"
      ],
      "execution_count": 65,
      "outputs": []
    },
    {
      "cell_type": "code",
      "metadata": {
        "colab": {
          "base_uri": "https://localhost:8080/"
        },
        "id": "4RtroQSyfbz0",
        "outputId": "0a927227-49e5-46af-d818-d9a62f31bb93"
      },
      "source": [
        "distribuicao = read_excel('stf_distr_2020_2021.xlsx')\n",
        "acervo = read_excel('stf_acervo_2021.xlsx')"
      ],
      "execution_count": 66,
      "outputs": [
        {
          "output_type": "stream",
          "text": [
            "Warning message in read_fun(path = enc2native(normalizePath(path)), sheet_i = sheet, :\n",
            "“Expecting date in C25252 / R25252C3: got '-'”\n",
            "Warning message in read_fun(path = enc2native(normalizePath(path)), sheet_i = sheet, :\n",
            "“Expecting date in C25253 / R25253C3: got '-'”\n",
            "Warning message in read_fun(path = enc2native(normalizePath(path)), sheet_i = sheet, :\n",
            "“Expecting date in C25254 / R25254C3: got '-'”\n",
            "Warning message in read_fun(path = enc2native(normalizePath(path)), sheet_i = sheet, :\n",
            "“Expecting date in C25255 / R25255C3: got '-'”\n",
            "Warning message in read_fun(path = enc2native(normalizePath(path)), sheet_i = sheet, :\n",
            "“Expecting date in C25256 / R25256C3: got '-'”\n",
            "Warning message in read_fun(path = enc2native(normalizePath(path)), sheet_i = sheet, :\n",
            "“Expecting date in C25257 / R25257C3: got '-'”\n",
            "Warning message in read_fun(path = enc2native(normalizePath(path)), sheet_i = sheet, :\n",
            "“Expecting date in C25258 / R25258C3: got '-'”\n",
            "Warning message in read_fun(path = enc2native(normalizePath(path)), sheet_i = sheet, :\n",
            "“Expecting date in C25259 / R25259C3: got '-'”\n",
            "Warning message in read_fun(path = enc2native(normalizePath(path)), sheet_i = sheet, :\n",
            "“Expecting date in C25260 / R25260C3: got '-'”\n",
            "Warning message in read_fun(path = enc2native(normalizePath(path)), sheet_i = sheet, :\n",
            "“Expecting date in C25261 / R25261C3: got '-'”\n",
            "Warning message in read_fun(path = enc2native(normalizePath(path)), sheet_i = sheet, :\n",
            "“Expecting date in C25262 / R25262C3: got '-'”\n",
            "Warning message in read_fun(path = enc2native(normalizePath(path)), sheet_i = sheet, :\n",
            "“Expecting date in C25263 / R25263C3: got '-'”\n",
            "Warning message in read_fun(path = enc2native(normalizePath(path)), sheet_i = sheet, :\n",
            "“Expecting date in C25264 / R25264C3: got '-'”\n",
            "Warning message in read_fun(path = enc2native(normalizePath(path)), sheet_i = sheet, :\n",
            "“Expecting date in C25265 / R25265C3: got '-'”\n",
            "Warning message in read_fun(path = enc2native(normalizePath(path)), sheet_i = sheet, :\n",
            "“Expecting date in C25266 / R25266C3: got '-'”\n",
            "Warning message in read_fun(path = enc2native(normalizePath(path)), sheet_i = sheet, :\n",
            "“Expecting date in C25267 / R25267C3: got '-'”\n",
            "Warning message in read_fun(path = enc2native(normalizePath(path)), sheet_i = sheet, :\n",
            "“Expecting date in C25268 / R25268C3: got '-'”\n",
            "Warning message in read_fun(path = enc2native(normalizePath(path)), sheet_i = sheet, :\n",
            "“Expecting date in C25269 / R25269C3: got '-'”\n",
            "Warning message in read_fun(path = enc2native(normalizePath(path)), sheet_i = sheet, :\n",
            "“Expecting date in C25270 / R25270C3: got '-'”\n",
            "Warning message in read_fun(path = enc2native(normalizePath(path)), sheet_i = sheet, :\n",
            "“Expecting date in C25271 / R25271C3: got '-'”\n",
            "Warning message in read_fun(path = enc2native(normalizePath(path)), sheet_i = sheet, :\n",
            "“Expecting date in C25272 / R25272C3: got '-'”\n",
            "Warning message in read_fun(path = enc2native(normalizePath(path)), sheet_i = sheet, :\n",
            "“Expecting date in C25273 / R25273C3: got '-'”\n",
            "Warning message in read_fun(path = enc2native(normalizePath(path)), sheet_i = sheet, :\n",
            "“Expecting date in C25274 / R25274C3: got '-'”\n",
            "Warning message in read_fun(path = enc2native(normalizePath(path)), sheet_i = sheet, :\n",
            "“Expecting date in C25275 / R25275C3: got '-'”\n"
          ],
          "name": "stderr"
        }
      ]
    },
    {
      "cell_type": "code",
      "metadata": {
        "colab": {
          "base_uri": "https://localhost:8080/",
          "height": 51
        },
        "id": "yBL03zkWiec2",
        "outputId": "71058795-5cff-465d-8df6-239d0d40f534"
      },
      "source": [
        "names (distribuicao)"
      ],
      "execution_count": 67,
      "outputs": [
        {
          "output_type": "display_data",
          "data": {
            "text/plain": [
              " [1] \"Id Processo\"                 \"Classe\"                     \n",
              " [3] \"Número\"                      \"Processo\"                   \n",
              " [5] \"Nome_Ministro\"               \"Data Andamento\"             \n",
              " [7] \"Qtd Ocorrencias Processuais\" \"Andamento\"                  \n",
              " [9] \"Classificação STF\"           \"Subgrupo Andamento Comissão\""
            ],
            "text/latex": "\\begin{enumerate*}\n\\item 'Id Processo'\n\\item 'Classe'\n\\item 'Número'\n\\item 'Processo'\n\\item 'Nome\\_Ministro'\n\\item 'Data Andamento'\n\\item 'Qtd Ocorrencias Processuais'\n\\item 'Andamento'\n\\item 'Classificação STF'\n\\item 'Subgrupo Andamento Comissão'\n\\end{enumerate*}\n",
            "text/markdown": "1. 'Id Processo'\n2. 'Classe'\n3. 'Número'\n4. 'Processo'\n5. 'Nome_Ministro'\n6. 'Data Andamento'\n7. 'Qtd Ocorrencias Processuais'\n8. 'Andamento'\n9. 'Classificação STF'\n10. 'Subgrupo Andamento Comissão'\n\n\n",
            "text/html": [
              "<style>\n",
              ".list-inline {list-style: none; margin:0; padding: 0}\n",
              ".list-inline>li {display: inline-block}\n",
              ".list-inline>li:not(:last-child)::after {content: \"\\00b7\"; padding: 0 .5ex}\n",
              "</style>\n",
              "<ol class=list-inline><li>'Id Processo'</li><li>'Classe'</li><li>'Número'</li><li>'Processo'</li><li>'Nome_Ministro'</li><li>'Data Andamento'</li><li>'Qtd Ocorrencias Processuais'</li><li>'Andamento'</li><li>'Classificação STF'</li><li>'Subgrupo Andamento Comissão'</li></ol>\n"
            ]
          },
          "metadata": {
            "tags": []
          }
        }
      ]
    },
    {
      "cell_type": "code",
      "metadata": {
        "colab": {
          "base_uri": "https://localhost:8080/",
          "height": 51
        },
        "id": "m2Zn0lhHjR4I",
        "outputId": "c45d4d62-97e1-49e1-a2ef-4c08e461d702"
      },
      "source": [
        "names (acervo)"
      ],
      "execution_count": 68,
      "outputs": [
        {
          "output_type": "display_data",
          "data": {
            "text/plain": [
              " [1] \"Processo\"                          \"Classificação STF | Meio Processo\"\n",
              " [3] \"Data de Autuação\"                  \"Localização Atual\"                \n",
              " [5] \"Assunto | Ramo do Direito\"         \"Relator Atual\"                    \n",
              " [7] \"Sem decisão final\"                 \"Preferência Criminal\"             \n",
              " [9] \"Órgão Origem\"                      \"Procedência\"                      \n",
              "[11] \"Pedido de Vista\"                  "
            ],
            "text/latex": "\\begin{enumerate*}\n\\item 'Processo'\n\\item 'Classificação STF \\textbar{} Meio Processo'\n\\item 'Data de Autuação'\n\\item 'Localização Atual'\n\\item 'Assunto \\textbar{} Ramo do Direito'\n\\item 'Relator Atual'\n\\item 'Sem decisão final'\n\\item 'Preferência Criminal'\n\\item 'Órgão Origem'\n\\item 'Procedência'\n\\item 'Pedido de Vista'\n\\end{enumerate*}\n",
            "text/markdown": "1. 'Processo'\n2. 'Classificação STF | Meio Processo'\n3. 'Data de Autuação'\n4. 'Localização Atual'\n5. 'Assunto | Ramo do Direito'\n6. 'Relator Atual'\n7. 'Sem decisão final'\n8. 'Preferência Criminal'\n9. 'Órgão Origem'\n10. 'Procedência'\n11. 'Pedido de Vista'\n\n\n",
            "text/html": [
              "<style>\n",
              ".list-inline {list-style: none; margin:0; padding: 0}\n",
              ".list-inline>li {display: inline-block}\n",
              ".list-inline>li:not(:last-child)::after {content: \"\\00b7\"; padding: 0 .5ex}\n",
              "</style>\n",
              "<ol class=list-inline><li>'Processo'</li><li>'Classificação STF | Meio Processo'</li><li>'Data de Autuação'</li><li>'Localização Atual'</li><li>'Assunto | Ramo do Direito'</li><li>'Relator Atual'</li><li>'Sem decisão final'</li><li>'Preferência Criminal'</li><li>'Órgão Origem'</li><li>'Procedência'</li><li>'Pedido de Vista'</li></ol>\n"
            ]
          },
          "metadata": {
            "tags": []
          }
        }
      ]
    },
    {
      "cell_type": "code",
      "metadata": {
        "id": "vV3u6rRsmJQA"
      },
      "source": [
        "processos_nunes = select(filter(distribuicao, Nome_Ministro == \"MIN. NUNES MARQUES\"), Processo)"
      ],
      "execution_count": 70,
      "outputs": []
    },
    {
      "cell_type": "code",
      "metadata": {
        "id": "qKhOdSxFnaTJ"
      },
      "source": [
        "acervo_nunes = subset(acervo, Processo %in% processos_nunes$Processo)"
      ],
      "execution_count": 71,
      "outputs": []
    },
    {
      "cell_type": "code",
      "metadata": {
        "colab": {
          "base_uri": "https://localhost:8080/",
          "height": 965
        },
        "id": "gkcOliAfoRL6",
        "outputId": "b0ffa7ea-836f-401e-99ba-bf79649439ef"
      },
      "source": [
        "acervo_nunes %>% group_by(Procedência) %>% summarise(n_processos=n()) %>% mutate(percent = 100 * n_processos / sum(n_processos))"
      ],
      "execution_count": 72,
      "outputs": [
        {
          "output_type": "display_data",
          "data": {
            "text/plain": [
              "   Procedência         n_processos percent    \n",
              "1  ACRE                   9         0.39805396\n",
              "2  ALAGOAS               12         0.53073861\n",
              "3  AMAPÁ                 10         0.44228218\n",
              "4  AMAZONAS              16         0.70765148\n",
              "5  BAHIA                 29         1.28261831\n",
              "6  CEARÁ                 26         1.14993366\n",
              "7  DISTRITO FEDERAL    1088        48.12030075\n",
              "8  ESPÍRITO SANTO        26         1.14993366\n",
              "9  GOIÁS                 32         1.41530296\n",
              "10 MARANHÃO              19         0.84033613\n",
              "11 MATO GROSSO           18         0.79610792\n",
              "12 MATO GROSSO DO SUL    29         1.28261831\n",
              "13 MINAS GERAIS         108         4.77664750\n",
              "14 PARÁ                  13         0.57496683\n",
              "15 PARAÍBA               17         0.75187970\n",
              "16 PARANÁ                67         2.96329058\n",
              "17 PERNAMBUCO            40         1.76912870\n",
              "18 PIAUÍ                 16         0.70765148\n",
              "19 RIO DE JANEIRO       127         5.61698364\n",
              "20 RIO GRANDE DO NORTE   22         0.97302079\n",
              "21 RIO GRANDE DO SUL    135         5.97080938\n",
              "22 RONDÔNIA              25         1.10570544\n",
              "23 RORAIMA                5         0.22114109\n",
              "24 SANTA CATARINA        57         2.52100840\n",
              "25 SÃO PAULO            286        12.64927023\n",
              "26 SERGIPE               11         0.48651039\n",
              "27 TOCANTINS             17         0.75187970\n",
              "28 UNIÃO FEDERAL          1         0.04422822"
            ],
            "text/latex": "A tibble: 28 × 3\n\\begin{tabular}{lll}\n Procedência & n\\_processos & percent\\\\\n <chr> & <int> & <dbl>\\\\\n\\hline\n\t ACRE                &    9 &  0.39805396\\\\\n\t ALAGOAS             &   12 &  0.53073861\\\\\n\t AMAPÁ               &   10 &  0.44228218\\\\\n\t AMAZONAS            &   16 &  0.70765148\\\\\n\t BAHIA               &   29 &  1.28261831\\\\\n\t CEARÁ               &   26 &  1.14993366\\\\\n\t DISTRITO FEDERAL    & 1088 & 48.12030075\\\\\n\t ESPÍRITO SANTO      &   26 &  1.14993366\\\\\n\t GOIÁS               &   32 &  1.41530296\\\\\n\t MARANHÃO            &   19 &  0.84033613\\\\\n\t MATO GROSSO         &   18 &  0.79610792\\\\\n\t MATO GROSSO DO SUL  &   29 &  1.28261831\\\\\n\t MINAS GERAIS        &  108 &  4.77664750\\\\\n\t PARÁ                &   13 &  0.57496683\\\\\n\t PARAÍBA             &   17 &  0.75187970\\\\\n\t PARANÁ              &   67 &  2.96329058\\\\\n\t PERNAMBUCO          &   40 &  1.76912870\\\\\n\t PIAUÍ               &   16 &  0.70765148\\\\\n\t RIO DE JANEIRO      &  127 &  5.61698364\\\\\n\t RIO GRANDE DO NORTE &   22 &  0.97302079\\\\\n\t RIO GRANDE DO SUL   &  135 &  5.97080938\\\\\n\t RONDÔNIA            &   25 &  1.10570544\\\\\n\t RORAIMA             &    5 &  0.22114109\\\\\n\t SANTA CATARINA      &   57 &  2.52100840\\\\\n\t SÃO PAULO           &  286 & 12.64927023\\\\\n\t SERGIPE             &   11 &  0.48651039\\\\\n\t TOCANTINS           &   17 &  0.75187970\\\\\n\t UNIÃO FEDERAL       &    1 &  0.04422822\\\\\n\\end{tabular}\n",
            "text/markdown": "\nA tibble: 28 × 3\n\n| Procedência &lt;chr&gt; | n_processos &lt;int&gt; | percent &lt;dbl&gt; |\n|---|---|---|\n| ACRE                |    9 |  0.39805396 |\n| ALAGOAS             |   12 |  0.53073861 |\n| AMAPÁ               |   10 |  0.44228218 |\n| AMAZONAS            |   16 |  0.70765148 |\n| BAHIA               |   29 |  1.28261831 |\n| CEARÁ               |   26 |  1.14993366 |\n| DISTRITO FEDERAL    | 1088 | 48.12030075 |\n| ESPÍRITO SANTO      |   26 |  1.14993366 |\n| GOIÁS               |   32 |  1.41530296 |\n| MARANHÃO            |   19 |  0.84033613 |\n| MATO GROSSO         |   18 |  0.79610792 |\n| MATO GROSSO DO SUL  |   29 |  1.28261831 |\n| MINAS GERAIS        |  108 |  4.77664750 |\n| PARÁ                |   13 |  0.57496683 |\n| PARAÍBA             |   17 |  0.75187970 |\n| PARANÁ              |   67 |  2.96329058 |\n| PERNAMBUCO          |   40 |  1.76912870 |\n| PIAUÍ               |   16 |  0.70765148 |\n| RIO DE JANEIRO      |  127 |  5.61698364 |\n| RIO GRANDE DO NORTE |   22 |  0.97302079 |\n| RIO GRANDE DO SUL   |  135 |  5.97080938 |\n| RONDÔNIA            |   25 |  1.10570544 |\n| RORAIMA             |    5 |  0.22114109 |\n| SANTA CATARINA      |   57 |  2.52100840 |\n| SÃO PAULO           |  286 | 12.64927023 |\n| SERGIPE             |   11 |  0.48651039 |\n| TOCANTINS           |   17 |  0.75187970 |\n| UNIÃO FEDERAL       |    1 |  0.04422822 |\n\n",
            "text/html": [
              "<table class=\"dataframe\">\n",
              "<caption>A tibble: 28 × 3</caption>\n",
              "<thead>\n",
              "\t<tr><th scope=col>Procedência</th><th scope=col>n_processos</th><th scope=col>percent</th></tr>\n",
              "\t<tr><th scope=col>&lt;chr&gt;</th><th scope=col>&lt;int&gt;</th><th scope=col>&lt;dbl&gt;</th></tr>\n",
              "</thead>\n",
              "<tbody>\n",
              "\t<tr><td>ACRE               </td><td>   9</td><td> 0.39805396</td></tr>\n",
              "\t<tr><td>ALAGOAS            </td><td>  12</td><td> 0.53073861</td></tr>\n",
              "\t<tr><td>AMAPÁ              </td><td>  10</td><td> 0.44228218</td></tr>\n",
              "\t<tr><td>AMAZONAS           </td><td>  16</td><td> 0.70765148</td></tr>\n",
              "\t<tr><td>BAHIA              </td><td>  29</td><td> 1.28261831</td></tr>\n",
              "\t<tr><td>CEARÁ              </td><td>  26</td><td> 1.14993366</td></tr>\n",
              "\t<tr><td>DISTRITO FEDERAL   </td><td>1088</td><td>48.12030075</td></tr>\n",
              "\t<tr><td>ESPÍRITO SANTO     </td><td>  26</td><td> 1.14993366</td></tr>\n",
              "\t<tr><td>GOIÁS              </td><td>  32</td><td> 1.41530296</td></tr>\n",
              "\t<tr><td>MARANHÃO           </td><td>  19</td><td> 0.84033613</td></tr>\n",
              "\t<tr><td>MATO GROSSO        </td><td>  18</td><td> 0.79610792</td></tr>\n",
              "\t<tr><td>MATO GROSSO DO SUL </td><td>  29</td><td> 1.28261831</td></tr>\n",
              "\t<tr><td>MINAS GERAIS       </td><td> 108</td><td> 4.77664750</td></tr>\n",
              "\t<tr><td>PARÁ               </td><td>  13</td><td> 0.57496683</td></tr>\n",
              "\t<tr><td>PARAÍBA            </td><td>  17</td><td> 0.75187970</td></tr>\n",
              "\t<tr><td>PARANÁ             </td><td>  67</td><td> 2.96329058</td></tr>\n",
              "\t<tr><td>PERNAMBUCO         </td><td>  40</td><td> 1.76912870</td></tr>\n",
              "\t<tr><td>PIAUÍ              </td><td>  16</td><td> 0.70765148</td></tr>\n",
              "\t<tr><td>RIO DE JANEIRO     </td><td> 127</td><td> 5.61698364</td></tr>\n",
              "\t<tr><td>RIO GRANDE DO NORTE</td><td>  22</td><td> 0.97302079</td></tr>\n",
              "\t<tr><td>RIO GRANDE DO SUL  </td><td> 135</td><td> 5.97080938</td></tr>\n",
              "\t<tr><td>RONDÔNIA           </td><td>  25</td><td> 1.10570544</td></tr>\n",
              "\t<tr><td>RORAIMA            </td><td>   5</td><td> 0.22114109</td></tr>\n",
              "\t<tr><td>SANTA CATARINA     </td><td>  57</td><td> 2.52100840</td></tr>\n",
              "\t<tr><td>SÃO PAULO          </td><td> 286</td><td>12.64927023</td></tr>\n",
              "\t<tr><td>SERGIPE            </td><td>  11</td><td> 0.48651039</td></tr>\n",
              "\t<tr><td>TOCANTINS          </td><td>  17</td><td> 0.75187970</td></tr>\n",
              "\t<tr><td>UNIÃO FEDERAL      </td><td>   1</td><td> 0.04422822</td></tr>\n",
              "</tbody>\n",
              "</table>\n"
            ]
          },
          "metadata": {
            "tags": []
          }
        }
      ]
    },
    {
      "cell_type": "code",
      "metadata": {
        "colab": {
          "base_uri": "https://localhost:8080/",
          "height": 135
        },
        "id": "KzWLQ_MCp-7Y",
        "outputId": "9967b498-d6bc-4f32-b345-2460994cc360"
      },
      "source": [
        ""
      ],
      "execution_count": null,
      "outputs": [
        {
          "output_type": "error",
          "ename": "ERROR",
          "evalue": "ignored",
          "traceback": [
            "Error in UseMethod(\"summarise\"): no applicable method for 'summarise' applied to an object of class \"character\"\nTraceback:\n",
            "1. summarise(procedencia)"
          ]
        }
      ]
    },
    {
      "cell_type": "code",
      "metadata": {
        "id": "um-l8r7zs69K"
      },
      "source": [
        ""
      ],
      "execution_count": null,
      "outputs": []
    }
  ]
}